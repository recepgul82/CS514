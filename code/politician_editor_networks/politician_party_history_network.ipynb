{
 "cells": [
  {
   "cell_type": "code",
   "execution_count": 3,
   "id": "53722571",
   "metadata": {},
   "outputs": [
    {
     "name": "stdout",
     "output_type": "stream",
     "text": [
      "Graph exported to politicians_network.gexf\n"
     ]
    }
   ],
   "source": [
    "politicians = dict()\n",
    "with open(\"politicians_previous_parties.txt\", encoding=\"utf-8\") as file:\n",
    "    all_lines = file.readlines()\n",
    "    for line in all_lines:\n",
    "        elems = line.split(\",\")\n",
    "        \n",
    "        if len(elems) == 1:\n",
    "            continue\n",
    "        \n",
    "        name = elems[0].lower()\n",
    "        politicians[name] = set()\n",
    "        \n",
    "        for party in elems[1:]:\n",
    "            party = party.lower().strip(\"\\n\\t \")\n",
    "            politicians[name].add(party)\n",
    "\n",
    "\n",
    "import networkx as nx\n",
    "            \n",
    "G = nx.Graph()\n",
    "\n",
    "# Add nodes for each politician\n",
    "for politician in politicians.keys():\n",
    "    G.add_node(politician)\n",
    "\n",
    "# Add edges based on common previous parties\n",
    "politician_list = list(politicians.keys())\n",
    "for i in range(len(politician_list)):\n",
    "    p1 = politician_list[i]\n",
    "    for j in range(i+1, len(politician_list)):\n",
    "        p2 = politician_list[j]\n",
    "        if p1 != p2:\n",
    "            common_parties = politicians[p1].intersection(politicians[p2])\n",
    "            weight = len(common_parties)\n",
    "            if weight > 0:\n",
    "                if G.has_edge(p1, p2):\n",
    "                    G[p1][p2]['weight'] += weight\n",
    "                else:\n",
    "                    G.add_edge(p1, p2, weight=weight)\n",
    "\n",
    "# Export the graph to a .gexf file\n",
    "nx.write_gexf(G, 'party_network.gexf')\n",
    "\n",
    "print(\"Graph exported to politicians_network.gexf\")"
   ]
  },
  {
   "cell_type": "code",
   "execution_count": null,
   "id": "2cbe7019",
   "metadata": {},
   "outputs": [],
   "source": []
  }
 ],
 "metadata": {
  "kernelspec": {
   "display_name": "Python 3 (ipykernel)",
   "language": "python",
   "name": "python3"
  },
  "language_info": {
   "codemirror_mode": {
    "name": "ipython",
    "version": 3
   },
   "file_extension": ".py",
   "mimetype": "text/x-python",
   "name": "python",
   "nbconvert_exporter": "python",
   "pygments_lexer": "ipython3",
   "version": "3.11.5"
  }
 },
 "nbformat": 4,
 "nbformat_minor": 5
}
