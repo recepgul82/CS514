{
 "cells": [
  {
   "cell_type": "code",
   "execution_count": 5,
   "metadata": {},
   "outputs": [],
   "source": [
    "import requests\n",
    "from bs4 import BeautifulSoup\n",
    "from collections import Counter\n",
    "import pandas as pd\n",
    "import matplotlib.pyplot as plt\n",
    "from datetime import datetime\n",
    "import os\n",
    "import numpy as np\n",
    "\n",
    "\n",
    "month_dict = {\n",
    "    \"Ocak\":1,\n",
    "    \"Şubat\":2,\n",
    "    \"Mart\":3,\n",
    "    \"Nisan\":4,\n",
    "    \"Mayıs\":5,\n",
    "    \"Haziran\":6,\n",
    "    \"Temmuz\":7,\n",
    "    \"Ağustos\":8,\n",
    "    \"Eylül\":9,\n",
    "    \"Ekim\":10,\n",
    "    \"Kasım\":11,\n",
    "    \"Aralık\":12\n",
    "}\n",
    "\n",
    "def get_revision_size_by_month(article):\n",
    "    url = f'https://tr.wikipedia.org/w/index.php?title={article.replace(\" \", \"_\")}&action=history&limit=3000'\n",
    "\n",
    "    print(url)\n",
    "    # Send a GET request\n",
    "    response = requests.get(url)\n",
    "    soup = BeautifulSoup(response.content, 'html.parser')\n",
    "\n",
    "    #Extract all timestamps\n",
    "    #timestamps = [item.text for item in soup.find_all('a', class_='mw-changeslist-date')]\n",
    "    #byte_change = [item.text for item in soup.find_all(class_ = \"mw-plusminus-neg mw-diff-bytes\")]\n",
    "    changes = []\n",
    "    for ul in soup.find_all(\"ul\", class_=\"mw-contributions-list\"):\n",
    "        bytes_neg = [item.text for item in ul.find_all(class_ = \"mw-plusminus-neg mw-diff-bytes\")]\n",
    "        bytes_pos = [item.text for item in ul.find_all(class_ = \"mw-plusminus-pos mw-diff-bytes\")]\n",
    "        bytes_all = bytes_neg + bytes_pos\n",
    "        sum = 0\n",
    "        for byt in bytes_all:\n",
    "            byt = byt.replace(\".\", \"\")  \n",
    "            #print({char: ord(char) for char in byt})\n",
    "            if \"+\" in byt:\n",
    "                sum += int(byt[1:].strip())\n",
    "            elif chr(8722) in byt:\n",
    "                sum -= int(byt[1:].strip())\n",
    "            else:\n",
    "                continue\n",
    "        try: \n",
    "            timestamp = ul.find(\"a\", class_='mw-changeslist-date').text\n",
    "            date = timestamp.split(' ')[2] + \" \" + timestamp.split(' ')[3]  \n",
    "            changes.append({\"date\": date, \"net_change\": sum})\n",
    "        except:\n",
    "            changes.append({\"date\": date, \"net_change\": 0})\n",
    "\n",
    "    df = pd.DataFrame(changes)\n",
    "    unique_dates = df['date'].unique()\n",
    "    grouped_data = df.groupby('date', sort=False)['net_change'].sum()\n",
    "    new_df = grouped_data.reset_index()\n",
    "    new_df = new_df.set_index('date').reindex(unique_dates).reset_index()\n",
    "    reversed_df = new_df.iloc[::-1].reset_index(drop=True)\n",
    "    return reversed_df\n"
   ]
  },
  {
   "cell_type": "code",
   "execution_count": 274,
   "metadata": {},
   "outputs": [],
   "source": [
    "filename1 = os.path.join(\"data\", \"politicians\", \"bakanlar_edited.txt\")\n",
    "filename2 = os.path.join(\"data\", \"politicians\", \"belediye_baskanlari.txt\")\n",
    "filename3 = os.path.join(\"data\", \"politicians\", \"milletvekilleri.txt\")\n",
    "filenames = [filename1, filename2, filename3]\n",
    "politician_list = list()\n",
    "\n",
    "for filename in filenames:\n",
    "    with open(filename, \"r\") as file:\n",
    "        politicians = file.readlines()\n",
    "        for politician in politicians:\n",
    "            name, party = politician.strip().split(\" \")\n",
    "            politician_list.append({\"name\": name, \"party\": party})\n",
    "\n"
   ]
  },
  {
   "cell_type": "code",
   "execution_count": 275,
   "metadata": {},
   "outputs": [
    {
     "name": "stdout",
     "output_type": "stream",
     "text": [
      "47973\n"
     ]
    }
   ],
   "source": [
    "def get_wikipedia_article_size_in_bytes(title):\n",
    "    url = \"https://tr.wikipedia.org/w/api.php\"\n",
    "    params = {\n",
    "        'action': 'query',\n",
    "        'format': 'json',\n",
    "        'titles': title,\n",
    "        'prop': 'info',\n",
    "        'inprop': 'url|size'\n",
    "    }\n",
    "    \n",
    "    response = requests.get(url, params=params)\n",
    "    data = response.json()\n",
    "    \n",
    "    pages = data.get('query', {}).get('pages', {})\n",
    "    if pages:\n",
    "        # Get the first page object\n",
    "        page = next(iter(pages.values()))\n",
    "        size = page.get('length', 'No size information found')\n",
    "        return size\n",
    "    else:\n",
    "        return \"Article not found.\"\n",
    "\n",
    "# Example usage\n",
    "title = \"Meral_Akşener\"\n",
    "print(get_wikipedia_article_size_in_bytes(title))\n"
   ]
  },
  {
   "cell_type": "code",
   "execution_count": 276,
   "metadata": {},
   "outputs": [
    {
     "data": {
      "text/plain": [
       "' for i, politician in enumerate(politician_list):\\n    article = politician[\"name\"]\\n    size = get_wikipedia_article_size_in_bytes(article)\\n    politician[\"article_size\"] = size\\n '"
      ]
     },
     "execution_count": 276,
     "metadata": {},
     "output_type": "execute_result"
    }
   ],
   "source": [
    "\"\"\" for i, politician in enumerate(politician_list):\n",
    "    article = politician[\"name\"]\n",
    "    size = get_wikipedia_article_size_in_bytes(article)\n",
    "    politician[\"article_size\"] = size\n",
    " \"\"\""
   ]
  },
  {
   "cell_type": "code",
   "execution_count": 277,
   "metadata": {},
   "outputs": [],
   "source": [
    "aksener = {\"name\": \"Meral_Akşener\", \"party\": \"iyi_parti\", \"article_size\": get_wikipedia_article_size_in_bytes(\"Meral_Akşener\")}\n",
    "babacan = {\"name\": \"Ali_Babacan\", \"party\": \"deva_partisi\", \"article_size\": get_wikipedia_article_size_in_bytes(\"Ali_Babacan\")}\n",
    "davutoglu = {\"name\": \"Ahmet_Davutoğlu\", \"party\": \"gelecek_partisi\", \"article_size\": get_wikipedia_article_size_in_bytes(\"Ahmet_Davutoğlu\")}\n",
    "politician_list = politician_list + [aksener, babacan, davutoglu]"
   ]
  },
  {
   "cell_type": "code",
   "execution_count": 278,
   "metadata": {},
   "outputs": [],
   "source": [
    "filename = os.path.join(\"data\", \"politicians\", \"politicians_sizes.csv\")\n",
    "politicians_sizes = pd.DataFrame(politician_list)\n",
    "politicians_sizes[\"article_size\"] = politicians_sizes[\"article_size\"].replace(\"No size information found\", \"N/A\") \n",
    "politicians_sizes.to_csv(filename, index=False)\n"
   ]
  },
  {
   "cell_type": "markdown",
   "metadata": {},
   "source": [
    "#### prepare edit dataframe by month\n"
   ]
  },
  {
   "cell_type": "code",
   "execution_count": 279,
   "metadata": {},
   "outputs": [],
   "source": [
    "months = list(month_dict.keys())\n",
    "years = [str(year) for year in range(2013, 2025)]\n",
    "dates = [month + \" \" + year for year in years for month in months]\n",
    "columns = [\"name\", \"party\", \"article_size\"] + dates\n",
    "filename = os.path.join(\"data\", \"politicians\", \"top100.csv\")\n",
    "politicians_100 = pd.read_csv(filename).drop(\"Unnamed: 0\", axis=1)\n",
    "edit_history = pd.DataFrame(columns=columns)\n"
   ]
  },
  {
   "cell_type": "code",
   "execution_count": 280,
   "metadata": {},
   "outputs": [],
   "source": [
    "# returns a list of net change value for a given politician\n",
    "def get_net_change_list(df):\n",
    "    values = []\n",
    "    for date in dates:\n",
    "        idx = (df[\"date\"] == date)\n",
    "        if (~idx).all():\n",
    "            values.append(0)\n",
    "        else:\n",
    "            net_change_value = df.loc[idx, \"net_change\"].item()\n",
    "            values.append(net_change_value)\n",
    "    return values\n"
   ]
  },
  {
   "cell_type": "code",
   "execution_count": 281,
   "metadata": {},
   "outputs": [
    {
     "data": {
      "text/plain": [
       "' for index in politicians_100.index:\\n    name, party, article_size = politicians_100.loc[index, [\"name\", \"party\", \"article_size\"]]\\n    data = get_revision_size_by_month(name)\\n    values = get_net_change_list(data)\\n    row = [name, party, article_size] + values\\n    edit_history.loc[index] = row\\n     '"
      ]
     },
     "execution_count": 281,
     "metadata": {},
     "output_type": "execute_result"
    }
   ],
   "source": [
    "\"\"\" for index in politicians_100.index:\n",
    "    name, party, article_size = politicians_100.loc[index, [\"name\", \"party\", \"article_size\"]]\n",
    "    data = get_revision_size_by_month(name)\n",
    "    values = get_net_change_list(data)\n",
    "    row = [name, party, article_size] + values\n",
    "    edit_history.loc[index] = row\n",
    "     \"\"\""
   ]
  },
  {
   "cell_type": "code",
   "execution_count": 6,
   "metadata": {},
   "outputs": [],
   "source": [
    "filefolder = os.path.join(\"data\", \"politicians\")\n",
    "filename = os.path.join(filefolder, \"edit_history.csv\")\n",
    "#edit_history.to_csv(filename, index=False)"
   ]
  },
  {
   "cell_type": "code",
   "execution_count": 7,
   "metadata": {},
   "outputs": [],
   "source": [
    "edit_history = pd.read_csv(filename)"
   ]
  },
  {
   "cell_type": "code",
   "execution_count": 284,
   "metadata": {},
   "outputs": [],
   "source": [
    "def plot_article_edit_freq(article_name):\n",
    "    # Filter the DataFrame to find rows where the 'name' column matches 'article_name'\n",
    "    idx = edit_history[\"name\"] == article_name\n",
    "    article_data = edit_history[idx]\n",
    "    \n",
    "    # Extract column names for dates (assuming these start from the 4th column)\n",
    "    cols = edit_history.columns[3:]\n",
    "    dates = np.array(cols)\n",
    "    \n",
    "    # Assuming 'article_data' contains only one row of data for the specified article\n",
    "    if not article_data.empty:\n",
    "        values = article_data.loc[:, cols].values.flatten()\n",
    "        \n",
    "        fig = plt.figure(figsize=(12, 5))\n",
    "        plt.plot(dates, values)  \n",
    "        plt.title(article_name)  \n",
    "        tick_positions = np.arange(len(dates))  # Positions of all ticks\n",
    "        tick_labels = [date if i % 3 == 0 else '' for i, date in enumerate(dates)]  # Labels every 5 ticks\n",
    "        plt.xticks(tick_positions, tick_labels, rotation='vertical', fontsize=6)\n",
    "        plt.tight_layout()\n",
    "        plt.show()\n",
    "    else:\n",
    "        print(\"No data found for article:\", article_name)\n"
   ]
  },
  {
   "cell_type": "code",
   "execution_count": 285,
   "metadata": {},
   "outputs": [
    {
     "data": {
      "text/plain": [
       "array(['adalet_ve_kalkınma_partisi', 'cumhuriyet_halk_partisi',\n",
       "       'milliyetçi_hareket_partisi', 'deva_partisi', 'iyi_parti',\n",
       "       'gelecek_partisi', 'zafer_partisi', 'türkiye_i̇şçi_partisi',\n",
       "       'bağımsız', 'halkların_demokratik_partisi', 'i̇yi̇_parti',\n",
       "       'halkların_eşitlik_ve_demokrasi_partisi', 'demokrat_parti',\n",
       "       'yenilik_partisi'], dtype=object)"
      ]
     },
     "execution_count": 285,
     "metadata": {},
     "output_type": "execute_result"
    }
   ],
   "source": [
    "edit_history[\"party\"].unique()"
   ]
  },
  {
   "cell_type": "code",
   "execution_count": 330,
   "metadata": {},
   "outputs": [
    {
     "data": {
      "text/html": [
       "<div>\n",
       "<style scoped>\n",
       "    .dataframe tbody tr th:only-of-type {\n",
       "        vertical-align: middle;\n",
       "    }\n",
       "\n",
       "    .dataframe tbody tr th {\n",
       "        vertical-align: top;\n",
       "    }\n",
       "\n",
       "    .dataframe thead th {\n",
       "        text-align: right;\n",
       "    }\n",
       "</style>\n",
       "<table border=\"1\" class=\"dataframe\">\n",
       "  <thead>\n",
       "    <tr style=\"text-align: right;\">\n",
       "      <th></th>\n",
       "      <th>name</th>\n",
       "      <th>Nisan 2016</th>\n",
       "    </tr>\n",
       "  </thead>\n",
       "  <tbody>\n",
       "    <tr>\n",
       "      <th>3</th>\n",
       "      <td>Devlet_Bahçeli</td>\n",
       "      <td>120</td>\n",
       "    </tr>\n",
       "    <tr>\n",
       "      <th>15</th>\n",
       "      <td>Saffet_Sancaklı</td>\n",
       "      <td>0</td>\n",
       "    </tr>\n",
       "    <tr>\n",
       "      <th>84</th>\n",
       "      <td>Olcay_Kılavuz</td>\n",
       "      <td>0</td>\n",
       "    </tr>\n",
       "  </tbody>\n",
       "</table>\n",
       "</div>"
      ],
      "text/plain": [
       "               name  Nisan 2016\n",
       "3    Devlet_Bahçeli         120\n",
       "15  Saffet_Sancaklı           0\n",
       "84    Olcay_Kılavuz           0"
      ]
     },
     "execution_count": 330,
     "metadata": {},
     "output_type": "execute_result"
    }
   ],
   "source": [
    "idx = edit_history[\"party\"] == \"milliyetçi_hareket_partisi\"\n",
    "edit_history[idx].loc[:, [\"name\", \"Nisan 2016\"]]\n"
   ]
  },
  {
   "cell_type": "code",
   "execution_count": 332,
   "metadata": {},
   "outputs": [
    {
     "data": {
      "text/plain": [
       "0     20864\n",
       "1      3552\n",
       "2     30310\n",
       "3      9928\n",
       "4       303\n",
       "      ...  \n",
       "95        0\n",
       "96        0\n",
       "97      177\n",
       "98        0\n",
       "99        0\n",
       "Name: Haziran 2016, Length: 100, dtype: int64"
      ]
     },
     "execution_count": 332,
     "metadata": {},
     "output_type": "execute_result"
    }
   ],
   "source": [
    "edit_history[\"Haziran 2016\"]"
   ]
  },
  {
   "cell_type": "code",
   "execution_count": 291,
   "metadata": {},
   "outputs": [
    {
     "data": {
      "image/png": "[encoded data removed]",
      "text/plain": [
       "<Figure size 1200x500 with 1 Axes>"
      ]
     },
     "metadata": {},
     "output_type": "display_data"
    }
   ],
   "source": [
    "plot_article_edit_freq(\"Meral_Akşener\")"
   ]
  },
  {
   "cell_type": "code",
   "execution_count": 333,
   "metadata": {},
   "outputs": [
    {
     "data": {
      "text/plain": [
       "Temmuz 2016     28385\n",
       "Ekim 2021       22006\n",
       "Mayıs 2021      18112\n",
       "Haziran 2016    10839\n",
       "Mart 2023        6888\n",
       "                ...  \n",
       "Aralık 2019         0\n",
       "Şubat 2020          0\n",
       "Temmuz 2021         0\n",
       "Eylül 2021          0\n",
       "Aralık 2024         0\n",
       "Length: 144, dtype: int64"
      ]
     },
     "execution_count": 333,
     "metadata": {},
     "output_type": "execute_result"
    }
   ],
   "source": [
    "df = edit_history[edit_history[\"party\"] == \"milliyetçi_hareket_partisi\"]\n",
    "df.loc[:, \"Ocak 2013\": \"Aralık 2024\"].abs().sum().sort_values(ascending=False)"
   ]
  },
  {
   "cell_type": "code",
   "execution_count": 347,
   "metadata": {},
   "outputs": [
    {
     "name": "stderr",
     "output_type": "stream",
     "text": [
      "/var/folders/7r/jxgv86_s37710lr8nq321dxh0000gn/T/ipykernel_80656/241505362.py:5: SettingWithCopyWarning: \n",
      "A value is trying to be set on a copy of a slice from a DataFrame.\n",
      "Try using .loc[row_indexer,col_indexer] = value instead\n",
      "\n",
      "See the caveats in the documentation: https://pandas.pydata.org/pandas-docs/stable/user_guide/indexing.html#returning-a-view-versus-a-copy\n",
      "  df[\"sum\"] = df[date1] + df[date2] +df[date3]\n"
     ]
    },
    {
     "data": {
      "text/html": [
       "<div>\n",
       "<style scoped>\n",
       "    .dataframe tbody tr th:only-of-type {\n",
       "        vertical-align: middle;\n",
       "    }\n",
       "\n",
       "    .dataframe tbody tr th {\n",
       "        vertical-align: top;\n",
       "    }\n",
       "\n",
       "    .dataframe thead th {\n",
       "        text-align: right;\n",
       "    }\n",
       "</style>\n",
       "<table border=\"1\" class=\"dataframe\">\n",
       "  <thead>\n",
       "    <tr style=\"text-align: right;\">\n",
       "      <th></th>\n",
       "      <th>name</th>\n",
       "      <th>party</th>\n",
       "      <th>Haziran 2016</th>\n",
       "      <th>Temmuz 2016</th>\n",
       "      <th>Mayıs 2016</th>\n",
       "      <th>sum</th>\n",
       "    </tr>\n",
       "  </thead>\n",
       "  <tbody>\n",
       "    <tr>\n",
       "      <th>0</th>\n",
       "      <td>Recep_Tayyip_Erdoğan</td>\n",
       "      <td>adalet_ve_kalkınma_partisi</td>\n",
       "      <td>20864</td>\n",
       "      <td>15000</td>\n",
       "      <td>5820</td>\n",
       "      <td>41684</td>\n",
       "    </tr>\n",
       "    <tr>\n",
       "      <th>1</th>\n",
       "      <td>Kemal_Kılıçdaroğlu</td>\n",
       "      <td>cumhuriyet_halk_partisi</td>\n",
       "      <td>3552</td>\n",
       "      <td>1001</td>\n",
       "      <td>47</td>\n",
       "      <td>4600</td>\n",
       "    </tr>\n",
       "    <tr>\n",
       "      <th>2</th>\n",
       "      <td>Binali_Yıldırım</td>\n",
       "      <td>adalet_ve_kalkınma_partisi</td>\n",
       "      <td>30310</td>\n",
       "      <td>-3950</td>\n",
       "      <td>7086</td>\n",
       "      <td>33446</td>\n",
       "    </tr>\n",
       "    <tr>\n",
       "      <th>3</th>\n",
       "      <td>Devlet_Bahçeli</td>\n",
       "      <td>milliyetçi_hareket_partisi</td>\n",
       "      <td>9928</td>\n",
       "      <td>28385</td>\n",
       "      <td>7</td>\n",
       "      <td>38320</td>\n",
       "    </tr>\n",
       "    <tr>\n",
       "      <th>4</th>\n",
       "      <td>Ali_Babacan</td>\n",
       "      <td>deva_partisi</td>\n",
       "      <td>303</td>\n",
       "      <td>0</td>\n",
       "      <td>-12</td>\n",
       "      <td>291</td>\n",
       "    </tr>\n",
       "    <tr>\n",
       "      <th>...</th>\n",
       "      <td>...</td>\n",
       "      <td>...</td>\n",
       "      <td>...</td>\n",
       "      <td>...</td>\n",
       "      <td>...</td>\n",
       "      <td>...</td>\n",
       "    </tr>\n",
       "    <tr>\n",
       "      <th>95</th>\n",
       "      <td>Mustafa_Savaş</td>\n",
       "      <td>adalet_ve_kalkınma_partisi</td>\n",
       "      <td>0</td>\n",
       "      <td>-14</td>\n",
       "      <td>5686</td>\n",
       "      <td>5672</td>\n",
       "    </tr>\n",
       "    <tr>\n",
       "      <th>96</th>\n",
       "      <td>Lütfü_Türkkan</td>\n",
       "      <td>i̇yi̇_parti</td>\n",
       "      <td>0</td>\n",
       "      <td>0</td>\n",
       "      <td>0</td>\n",
       "      <td>0</td>\n",
       "    </tr>\n",
       "    <tr>\n",
       "      <th>97</th>\n",
       "      <td>Selin_Sayek_Böke</td>\n",
       "      <td>cumhuriyet_halk_partisi</td>\n",
       "      <td>177</td>\n",
       "      <td>-4</td>\n",
       "      <td>-42</td>\n",
       "      <td>131</td>\n",
       "    </tr>\n",
       "    <tr>\n",
       "      <th>98</th>\n",
       "      <td>Mehmet_Fatih_Kacır</td>\n",
       "      <td>bağımsız</td>\n",
       "      <td>0</td>\n",
       "      <td>0</td>\n",
       "      <td>0</td>\n",
       "      <td>0</td>\n",
       "    </tr>\n",
       "    <tr>\n",
       "      <th>99</th>\n",
       "      <td>Fahrettin_Koca</td>\n",
       "      <td>bağımsız</td>\n",
       "      <td>0</td>\n",
       "      <td>0</td>\n",
       "      <td>0</td>\n",
       "      <td>0</td>\n",
       "    </tr>\n",
       "  </tbody>\n",
       "</table>\n",
       "<p>100 rows × 6 columns</p>\n",
       "</div>"
      ],
      "text/plain": [
       "                    name                       party  Haziran 2016  \\\n",
       "0   Recep_Tayyip_Erdoğan  adalet_ve_kalkınma_partisi         20864   \n",
       "1     Kemal_Kılıçdaroğlu     cumhuriyet_halk_partisi          3552   \n",
       "2        Binali_Yıldırım  adalet_ve_kalkınma_partisi         30310   \n",
       "3         Devlet_Bahçeli  milliyetçi_hareket_partisi          9928   \n",
       "4            Ali_Babacan                deva_partisi           303   \n",
       "..                   ...                         ...           ...   \n",
       "95         Mustafa_Savaş  adalet_ve_kalkınma_partisi             0   \n",
       "96         Lütfü_Türkkan                 i̇yi̇_parti             0   \n",
       "97      Selin_Sayek_Böke     cumhuriyet_halk_partisi           177   \n",
       "98    Mehmet_Fatih_Kacır                    bağımsız             0   \n",
       "99        Fahrettin_Koca                    bağımsız             0   \n",
       "\n",
       "    Temmuz 2016  Mayıs 2016    sum  \n",
       "0         15000        5820  41684  \n",
       "1          1001          47   4600  \n",
       "2         -3950        7086  33446  \n",
       "3         28385           7  38320  \n",
       "4             0         -12    291  \n",
       "..          ...         ...    ...  \n",
       "95          -14        5686   5672  \n",
       "96            0           0      0  \n",
       "97           -4         -42    131  \n",
       "98            0           0      0  \n",
       "99            0           0      0  \n",
       "\n",
       "[100 rows x 6 columns]"
      ]
     },
     "execution_count": 347,
     "metadata": {},
     "output_type": "execute_result"
    }
   ],
   "source": [
    "date1 = \"Haziran 2016\"\n",
    "date2 = \"Temmuz 2016\"\n",
    "date3 = \"Mayıs 2016\"\n",
    "df = edit_history[[\"name\", \"party\", date1, date2, date3]]\n",
    "df[\"sum\"] = df[date1] + df[date2] +df[date3]\n",
    "#edit_history[[\"name\", \"party\", \"Haziran 2016\", \"Temmuz 2016\"]].sort_values([\"Haziran 2016\"], ascending=False).head(7)\n",
    "df"
   ]
  },
  {
   "cell_type": "code",
   "execution_count": 38,
   "metadata": {},
   "outputs": [
    {
     "name": "stderr",
     "output_type": "stream",
     "text": [
      "/var/folders/7r/jxgv86_s37710lr8nq321dxh0000gn/T/ipykernel_92117/3645244673.py:5: SettingWithCopyWarning: \n",
      "A value is trying to be set on a copy of a slice from a DataFrame.\n",
      "Try using .loc[row_indexer,col_indexer] = value instead\n",
      "\n",
      "See the caveats in the documentation: https://pandas.pydata.org/pandas-docs/stable/user_guide/indexing.html#returning-a-view-versus-a-copy\n",
      "  df[\"sum\"] = df[date1] + df[date2] +df[date3]\n"
     ]
    }
   ],
   "source": [
    "date1 = \"Ocak 2020\"\n",
    "date2 = \"Şubat 2020\"\n",
    "date3 = \"Mart 2020\"\n",
    "df = edit_history[[\"name\", \"party\", date1, date2, date3]]\n",
    "df[\"sum\"] = df[date1] + df[date2] +df[date3]\n",
    "#edit_history[[\"name\", \"party\", \"Haziran 2016\", \"Temmuz 2016\"]].sort_values([\"Haziran 2016\"], ascending=False).head(7)\n",
    "df = df.sort_values(\"sum\", ascending=False).head(10)\n",
    "\n",
    "df.to_csv(\"data/politicians/Top10_Ocak2020.csv\")"
   ]
  },
  {
   "cell_type": "code",
   "execution_count": 39,
   "metadata": {},
   "outputs": [],
   "source": [
    "df = df.sort_values([\"sum\"], ascending=False).head(7)\n",
    "#df.to_csv(\"data/politicians/top7_temmuz2016.csv\")"
   ]
  },
  {
   "cell_type": "code",
   "execution_count": 31,
   "metadata": {},
   "outputs": [
    {
     "data": {
      "text/html": [
       "<div>\n",
       "<style scoped>\n",
       "    .dataframe tbody tr th:only-of-type {\n",
       "        vertical-align: middle;\n",
       "    }\n",
       "\n",
       "    .dataframe tbody tr th {\n",
       "        vertical-align: top;\n",
       "    }\n",
       "\n",
       "    .dataframe thead th {\n",
       "        text-align: right;\n",
       "    }\n",
       "</style>\n",
       "<table border=\"1\" class=\"dataframe\">\n",
       "  <thead>\n",
       "    <tr style=\"text-align: right;\">\n",
       "      <th></th>\n",
       "      <th>name</th>\n",
       "      <th>Haziran 2023</th>\n",
       "      <th>Temmuz 2023</th>\n",
       "      <th>Ağustos 2023</th>\n",
       "      <th>Eylül 2023</th>\n",
       "      <th>Ekim 2023</th>\n",
       "      <th>Kasım 2023</th>\n",
       "      <th>Aralık 2023</th>\n",
       "      <th>Ocak 2024</th>\n",
       "    </tr>\n",
       "  </thead>\n",
       "  <tbody>\n",
       "    <tr>\n",
       "      <th>0</th>\n",
       "      <td>Recep_Tayyip_Erdoğan</td>\n",
       "      <td>8014</td>\n",
       "      <td>1012</td>\n",
       "      <td>-2254</td>\n",
       "      <td>-51777</td>\n",
       "      <td>-1427</td>\n",
       "      <td>620</td>\n",
       "      <td>-134</td>\n",
       "      <td>-47</td>\n",
       "    </tr>\n",
       "    <tr>\n",
       "      <th>1</th>\n",
       "      <td>Kemal_Kılıçdaroğlu</td>\n",
       "      <td>-1213</td>\n",
       "      <td>547</td>\n",
       "      <td>-1</td>\n",
       "      <td>-462</td>\n",
       "      <td>537</td>\n",
       "      <td>256</td>\n",
       "      <td>829</td>\n",
       "      <td>612</td>\n",
       "    </tr>\n",
       "    <tr>\n",
       "      <th>5</th>\n",
       "      <td>Ekrem_İmamoğlu</td>\n",
       "      <td>344</td>\n",
       "      <td>462</td>\n",
       "      <td>-5</td>\n",
       "      <td>190</td>\n",
       "      <td>3915</td>\n",
       "      <td>129</td>\n",
       "      <td>21</td>\n",
       "      <td>271</td>\n",
       "    </tr>\n",
       "  </tbody>\n",
       "</table>\n",
       "</div>"
      ],
      "text/plain": [
       "                   name  Haziran 2023  Temmuz 2023  Ağustos 2023  Eylül 2023  \\\n",
       "0  Recep_Tayyip_Erdoğan          8014         1012         -2254      -51777   \n",
       "1    Kemal_Kılıçdaroğlu         -1213          547            -1        -462   \n",
       "5        Ekrem_İmamoğlu           344          462            -5         190   \n",
       "\n",
       "   Ekim 2023  Kasım 2023  Aralık 2023  Ocak 2024  \n",
       "0      -1427         620         -134        -47  \n",
       "1        537         256          829        612  \n",
       "5       3915         129           21        271  "
      ]
     },
     "execution_count": 31,
     "metadata": {},
     "output_type": "execute_result"
    }
   ],
   "source": [
    "column_names = [\"name\"] + list(edit_history.loc[:, \"Haziran 2023\": \"Ocak 2024\"].columns)\n",
    "selected_columns = edit_history[column_names]\n",
    "idx = selected_columns[\"name\"].isin([\"Kemal_Kılıçdaroğlu\", \"Ekrem_İmamoğlu\", \"Recep_Tayyip_Erdoğan\"])\n",
    "selected_columns[idx]"
   ]
  }
 ],
 "metadata": {
  "kernelspec": {
   "display_name": "myenv",
   "language": "python",
   "name": "python3"
  },
  "language_info": {
   "codemirror_mode": {
    "name": "ipython",
    "version": 3
   },
   "file_extension": ".py",
   "mimetype": "text/x-python",
   "name": "python",
   "nbconvert_exporter": "python",
   "pygments_lexer": "ipython3",
   "version": "3.11.1"
  }
 },
 "nbformat": 4,
 "nbformat_minor": 2
}
