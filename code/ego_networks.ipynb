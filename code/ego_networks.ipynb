{
 "cells": [
  {
   "cell_type": "code",
   "execution_count": 15,
   "metadata": {},
   "outputs": [],
   "source": [
    "import requests\n",
    "import pandas as pd\n",
    "from bs4 import BeautifulSoup as bs\n",
    "from datetime import datetime\n",
    "from matplotlib import pyplot as plt\n",
    "from collections import Counter\n",
    "import os\n",
    "import re\n",
    "import urllib.parse"
   ]
  },
  {
   "cell_type": "code",
   "execution_count": 32,
   "metadata": {},
   "outputs": [
    {
     "name": "stdout",
     "output_type": "stream",
     "text": [
      "{'Suriye', 'Mehmed_Ziya_Kızıltan', 'Kongre_Kütüphanesi_Kontrol_Numarası', 'Recep_Tayyip_Erdoğan', 'WorldCat', 'Mustafa_Kemal_Atatürk', 'Uluslararası_Sanal_Otorite_Dosyası', '2022_Fransa_cumhurbaşkanlığı_seçimi', 'Osman_Raşid_Paşa', 'Ahmed_Şükrü_Bey', 'Mba', 'Niyazi_Akı', 'Tümleşik_Otorite_Dosyası', 'Boşnaklar', 'Mümtaz_Tarhan', 'Mehmed_Arif_Paşa', 'Trabzon_Fen_Lisesi', 'Hakkı_Akansel', 'Ebubekir_Hâzım_Tepeyran', 'Hava_Er_Eğitim_Tugay_Komutanlığı', 'TikTok', 'Yardım:KB1_hataları#bad_date', 'Kopenhag', 'İstanbul_Üniversitesi_İşletme_Fakültesi', 'Şefik_Erensü', 'Rıdvan_İsmail_Paşa', 'Faruk_Ilgaz', 'Hürriyet_(gazete)', 'Güngören', 'Ahmed_Mazhar_Paşa', 'Milliyet_(gazete)', 'Hacı_Ahmed_Efendi', 'Fransa', 'Paris', 'İstanbul_belediye_başkanları_listesi', 'İnşaat_mühendisliği', 'Türkiye_cumhurbaşkanı_yardımcısı', 'Trabzon', 'Ali_Kabuli_Paşa', 'Türk_Ocağı_Limasol_Spor_Kulübü', 'Hentbol', 'Kuzey_Kıbrıs_Türk_Cumhuriyeti', 'Sadi_Güven', '2019_Türkiye_yerel_seçimleri', 'Anadolu_Ajansı', 'Zülüflü_Ali_Paşa', 'Yüksek_Seçim_Kurulu_(Türkiye)', 'Ali_Haydar_Yuluğ', 'Subhi_Aslan', 'Türk_Kurtuluş_Savaşı', 'İklim_değişikliği', 'Emniyet_Genel_Müdürlüğü', 'Ali_Rıza_Bey', 'Özel:KitapKaynakları/9786052314272', 'Bosna-Hersek_Sosyal_Demokrat_Partisi', 'Abdullah_Tırtıl', 'Budapeşte', 'Suikast', 'Uluslararası_Standart_Kitap_Numarası', 'Beylikdüzü', 'Cumhuriyet', 'Şablon_tartışma:İstanbul_belediye_başkanları', '2021_Birleşmiş_Milletler_İklim_Değişikliği_Konferansı', 'Ahmed_Rasim_Paşa', 'Mehmed_Celal_Bey', 'Türkler', 'Cevizli,_Akçaabat', 'Mehmed_Besim_Bey', 'Fahri_Atabey', 'Reşid_Paşa', '2009_Türkiye_yerel_seçimleri', 'Hekim_İsmail_Paşa', 'Binali_Yıldırım', 'Ali_Yerlikaya', 'Instagram', 'Mehmed_Halet_Paşa', 'Cumhuriyet_Halk_Partisi', 'İstanbul_Büyükşehir_Belediye_Başkanlığı_seçimleri', 'Türk_Ocağı_Limasol_SK', 'Yusuf_Razi_Bel', 'Reşid_Mümtaz_Paşa', 'Strazburg', 'Emin_Erkul', 'İsmet_Bey_(İstanbul_belediye_başkanı)', 'Nurettin_Sözen', 'Twitter', 'İsmail_Canbulat', 'NTV', 'Özel:KitapKaynakları/9786059905152', 'Mazbata', 'Dilek_İmamoğlu', 'Saraybosna', 'Lütfi_Kırdar', 'İş_insanı', '2019_İstanbul_ara_yerel_seçimi', 'Girne_Amerikan_Üniversitesi', 'Bir_sonraki_Türkiye_cumhurbaşkanlığı_seçimi', 'Hacı_Hüsam_Efendi', 'Özel:KitapKaynakları/9786058054332', 'Fevzi_Bey', 'Adalet_ve_Kalkınma_Partisi', 'Avrupa_Konseyi', 'YouTube', 'Abdullah_Galib_Paşa', 'Bağlarbaşı,_Üsküdar', 'Yerel_seçim', 'Trabzonspor', 'İlkokul', 'İbrahim_Haydar_Efendi', 'Avrupa_Birliği', 'Mustafa_Necdet_Uğur', '2014_Türkiye_yerel_seçimleri', 'İBB_Miras', 'Tanju_Özcan', 'Üsküdar', 'Irak_ve_Şam_İslam_Devleti', 'Sözcü', 'X_(sosyal_ağ)', 'Şerif_Mehmed_Rauf_Paşa', '2010_Türkiye_anayasa_değişikliği_referandumu', '2024_Türkiye_yerel_seçimleri', 'Mevlüt_Uysal', 'Ecmel_Kutay', 'Kemal_Hadımlı', 'Halil_Ethem_Eldem', 'Facebook', 'Ethem_Yetkiner', 'Muhittin_Üstündağ', 'İstanbul_Üniversitesi', 'Siyasetçi', 'Ahmet_İsvan', 'Cemil_Topuzlu', 'Anne_Hidalgo', 'Belediye_meclisi', 'Fahrettin_Kerim_Gökay', 'İmamoğlu_davası', 'Türkiye_Belediyeler_Birliği', 'Kadir_Topbaş', 'Pepe_Salih_Paşa', 'Sultanbeyli', 'Server_Paşa', 'Ali_Müfit_Gürtuna', 'Cenanizade_Mehmed_Kadri_Paşa', 'Mehmet_Tevfik_Biren', \"İstanbul'da_2024_Türkiye_yerel_seçimleri\", 'Anavatan_Partisi', \"İstanbul'da_2009_Türkiye_yerel_seçimleri\", 'Kadıköy', 'Göztepe,_Kadıköy', 'İstanbul', '2004_Türkiye_yerel_seçimleri', 'Bedrettin_Dalan', 'Sözcü_(gazete)', 'Gergely_Karácsony', 'Danimarka', 'Bosna-Hersek', 'Şablon:İstanbul_belediye_başkanları', 'Hüseyin_Hasib_Bey', 'Refik_Ali_Rıza_Bey', '2011_Türkiye_genel_seçimleri', 'Yıldızlı,_Akçaabat', '38._Cumhuriyet_Halk_Partisi_Olağan_Kurultayı', 'Futbol', 'Yusuf_Rıza_Paşa', 'Akçaabat', 'Doğu_Akdeniz_Üniversitesi', 'Mustafa_Ziver_Bey', \"Kur'an\", 'Haşim_İşcan', 'Aytekin_Kotil', 'Özgür_Özel', 'Kemal_Aygün', 'Türkiye', 'Sezai_Selek', 'Cumhuriyet_(gazete)', 'Hüseyin_Kazım_Kadri', 'Varşova', 'Yardım:KB1_hataları#param_has_ext_link', 'Sosyal_demokrasi', 'Refik_Tulga'}\n"
     ]
    }
   ],
   "source": [
    "def get_wikipedia_links(title):\n",
    "    # Encode the title properly to handle special characters\n",
    "    formatted_title = urllib.parse.quote(title.replace(' ', '_'))\n",
    "\n",
    "    # Construct the URL to fetch the current version of the article\n",
    "    url = f\"https://tr.wikipedia.org/wiki/{formatted_title}\"\n",
    "    response = requests.get(url)\n",
    "    soup = bs(response.content, 'html.parser')\n",
    "\n",
    "    # Find the main content div and extract links from paragraph and list elements\n",
    "    content = soup.find('div', {'id': 'mw-content-text'})\n",
    "    \n",
    "    # Gather paragraphs and list items\n",
    "    text_blocks = content.find_all(['p', 'li'])\n",
    "    \n",
    "    article_names = set()\n",
    "    for block in text_blocks:\n",
    "        links = block.find_all('a', href=True)\n",
    "        # Filter links to keep only those that lead to other Wikipedia articles\n",
    "        # and ignore links that are numeric\n",
    "        for link in links:\n",
    "            if link['href'].startswith('/wiki/') and not link['href'][6:].replace('_', ' ').isnumeric():\n",
    "                article_name = urllib.parse.unquote(link['href'][6:])\n",
    "                article_names.add(article_name)\n",
    "\n",
    "    return article_names\n",
    "\n",
    "# Example use\n",
    "title = \"Ekrem_İmamoğlu\"\n",
    "linked_articles = get_wikipedia_links(title)\n",
    "print(linked_articles)"
   ]
  },
  {
   "cell_type": "code",
   "execution_count": 33,
   "metadata": {},
   "outputs": [],
   "source": [
    "edges = []\n",
    "for article in linked_articles:\n",
    "    edges.append((title, article))\n",
    "    new_links = get_wikipedia_links(article)\n",
    "    for new_link in new_links:\n",
    "        edges.append((article, new_link))\n",
    "\n",
    "    "
   ]
  },
  {
   "cell_type": "code",
   "execution_count": 31,
   "metadata": {},
   "outputs": [],
   "source": [
    "with open(\"data/politicians/ekrem_edgelist_1.txt\", \"w\", encoding=\"UTF-8\") as file:\n",
    "    for e in edges:\n",
    "        file.write( str(e[0]+\"\\t\"+e[1])+ \"\\n\")\n"
   ]
  }
 ],
 "metadata": {
  "kernelspec": {
   "display_name": "myenv",
   "language": "python",
   "name": "python3"
  },
  "language_info": {
   "codemirror_mode": {
    "name": "ipython",
    "version": 3
   },
   "file_extension": ".py",
   "mimetype": "text/x-python",
   "name": "python",
   "nbconvert_exporter": "python",
   "pygments_lexer": "ipython3",
   "version": "3.11.1"
  }
 },
 "nbformat": 4,
 "nbformat_minor": 2
}
